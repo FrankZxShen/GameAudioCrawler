{
 "cells": [
  {
   "cell_type": "code",
   "execution_count": 2,
   "metadata": {},
   "outputs": [
    {
     "name": "stdout",
     "output_type": "stream",
     "text": [
      "['Archer Inferno', 'Assassin Paraiso', 'BB', 'BeastⅢ／L', 'BeastⅢ／R', 'Kingprotea', 'Meltryllis', 'Passionlip', '“山中老人”', '不夜城的Assassin', '不夜城的Caster', '两仪式', '乔尔乔斯', '九纹龙伊丽莎', '亚历山大', '亚瑟・潘德拉贡〔Prototype〕', '亨利・杰基尔＆海德', '伊丽莎白・巴托里', '伊丽莎白・巴托里〔万圣节〕', '伊丽莎白・巴托里〔勇者〕', '伊丽莎白・巴托里〔灰姑娘〕', '伊什塔尔', '伊凡雷帝', '伊吹童子', '伊斯坎达尔', '伊莉雅丝菲尔・冯・爱因兹贝伦', '伊阿宋', '伟大的石像神', '伽拉忒亚', '佐佐木小次郎', '俄刻阿诺斯的Caster', '俄里翁', '保罗・班扬', '俵藤太', '光之高扬斯卡娅', '克娄巴特拉', '克洛伊・冯・爱因兹贝伦', '克莱恩小姐', '克里姆希尔德', '兰斯洛特', '兰陵王', '冈田以藏', '冯・霍恩海姆・帕拉塞尔苏斯', '冲田·J·总司', '冲田总司', '冲田总司〔Alter〕', '凯妮斯', '出云阿国', '刑部姬', '列奥尼达一世', '剧院魅影', '加藤段藏', '加雷斯', '千利休', '千子村正', '卑弥呼', '南丁格尔', '南丁格尔〔圣诞〕', '卡利古拉', '卡米拉', '卫宫', '卫宫〔Alter〕', '卫宫〔Assassin〕', '反抗军的Rider', '司马懿〔莱妮丝〕', '吉尔・德・雷', '吉尔伽美什', '吕布奉先', '君士坦丁十一世', '呼延灼', '咒腕哈桑', '哈贝特洛特', '哪吒', '喀戎', '土方岁三', '坂本龙马', '坂田金时', '埃列什基伽勒', '堂·吉诃德', '塞弥拉弥斯', '壹与', '夏尔・亨利・桑松', '夏洛克・福尔摩斯', '夏洛特·科黛', '多布雷尼亚·尼基季奇', '大卫', '大流士三世', '大黑天', '天草四郎', '太公望', '太岁星君', '太空伊什塔尔', '奥伯龙', '奥德修斯', '奥斯曼狄斯', '奥特琳德', '女教皇若安', '女王梅芙', '妖精骑士兰斯洛特', '妖精骑士崔斯坦', '妖精骑士高文', '始皇帝', '威廉·退尔', '威廉・莎士比亚', '宇津见绘里濑', '安东尼奥・萨列里', '安哥拉曼纽', '安妮・伯妮＆玛莉・瑞德', '宝藏院胤舜', '宫本武藏', '尤瑞艾莉', '尼古拉・特斯拉', '尼托克丽丝', '尼托克丽丝〔Alter〕', '尼禄・克劳狄乌斯', '尼禄・克劳狄乌斯〔新娘〕', '尼莫', '山南敬助', '岩窟王', '崔斯坦', '巴御前', '巴沙洛缪·罗伯茨', '布伦希尔德', '布拉达曼特', '布狄卡', '布里托玛特', '希露德', '帕尔瓦蒂', '帕里斯', '平景清', '幼体／提亚马特', '幼吉尔', '库・丘林', '库・丘林〔Alter〕', '库・丘林〔Prototype〕', '库库尔坎', '开膛手杰克', '弗兰肯斯坦', '弗拉德三世', '弗拉德三世〔EXTRA〕', '弗朗西斯・德雷克', '弗栗多', '弗格斯・马克・罗伊', '张角', '征氏姐妹', '徐福', '志度内', '恩奇都', '戈耳工', '所多玛之兽／德拉科', '所罗门', '托马斯・爱迪生', '拉克什米·芭伊', '拿破仑', '提亚马特', '摩根', '斋藤一', '斯卡哈', '斯卡哈・斯卡蒂', '斯巴达克斯', '斯忒诺', '斯露德', '新宿的Archer', '新宿的Assassin', '新宿的Avenger', '旅行者', '暗之高扬斯卡娅', '曲亭马琴', '曼迪卡尔多', '机械伊丽亲', '机械伊丽亲Ⅱ号机', '杀生院祈荒', '李书文', '杨贵妃', '杰罗尼莫', '果心居士', '查尔斯・巴贝奇', '查理曼', '柳生但马守宗矩', '格蕾', '格里戈里·拉斯普京', '梅林', '梅菲斯托费勒斯', '梵高', '森长可', '欧罗巴', '武则天', '武藏坊弁庆', '比利小子', '汉斯・克里斯蒂安・安徒生', '沃尔夫冈・阿马德乌斯・莫扎特', '洛库斯塔', '浅上藤乃', '海伦娜・布拉瓦茨基', '清姬', '清少纳言', '渡边纲', '源为朝', '源赖光', '灾星简', '爱丽丝菲尔〔天之衣〕', '爱德华・蒂奇', '牛若丸', '特拉洛克', '特斯卡特利波卡', '狄俄斯库里', '玄奘三藏', '玉藻前', '玉藻猫', '玛丽·安宁', '玛丽・安托瓦内特', '玛修・基列莱特', '玛塔・哈丽', '玛尔达', '玛尔达〔圣诞〕', '珀西瓦尔', '瑟坦特', '瓦尔基里', '百貌哈桑', '盖乌斯・尤利乌斯・恺撒', '盖提亚', '秦良玉', '童谣', '米德拉什的Caster', '紫式部', '红阎魔', '织田信胜', '织田信长', '罗兰', '罗宾汉', '罗摩', '罗穆路斯', '罗穆路斯·奎里努斯', '美杜莎', '美游·艾德费尔特', '美狄亚', '美狄亚〔Lily〕', '芝诺比阿', '芦屋道满', '芬恩・麦克库尔', '茨木童子', '茶茶', '荆轲', '莎乐美', '莫德雷德', '莱昂纳多・达・芬奇', '葛饰北斋', '虞美人', '血斧埃里克', '詹姆斯・莫里亚蒂', '诸葛孔明〔埃尔梅罗Ⅱ世〕', '谜之Alterego·Λ', '谜之偶像X〔Alter〕', '谜之兰丸X', '谜之女主角X', '谜之女主角XX', '谜之女主角X〔Alter〕', '豹人', '贝奥武夫', '贝德维尔', '贞德', '贞德〔Alter〕', '贞德・Alter・Santa・Lily', '赤兔马', '赫克托耳', '赫拉克勒斯', '赫费斯提翁', '超人俄里翁', '超级班扬', '迦尔纳', '迦尔纳〔圣诞〕', '迦摩', '迪尔姆德・奥迪那', '酒吞童子', '铃鹿御前', '长尾景虎', '阿周那', '阿周那〔Alter〕', '阿喀琉斯', '阿塔兰忒', '阿塔兰忒〔Alter〕', '阿尔托莉雅·卡斯特', '阿尔托莉雅・潘德拉贡', '阿尔托莉雅・潘德拉贡〔Alter〕', '阿尔托莉雅・潘德拉贡〔Lily〕', '阿尔托莉雅・潘德拉贡〔圣诞Alter〕', '阿拉什', '阿摩耳〔卡莲〕', '阿斯克勒庇俄斯', '阿斯忒里俄斯', '阿斯托尔福', '阿斯特赖亚', '阿比盖尔·威廉姆斯〔夏〕', '阿比盖尔・威廉姆斯', '阿瓦隆女士', '阿纳斯塔西娅', '阿纳斯塔西娅＆维', '阿维斯布隆', '阿蒂拉', '阿蒂拉・the・San〔ta〕', '陈宫', '雅克・德・莫莱', '静谧哈桑', '项羽', '风魔小太郎', '马嘶', '马纳南·麦克·利尔〔巴泽特〕', '骑士迪昂', '高文', '高杉晋作', '鬼一法眼', '鬼女红叶', '魁札尔·科亚特尔〔桑巴／圣诞〕', '魁札尔・科亚特尔', '黄金国的Berserker', '黄飞虎', '齐格', '齐格飞', '齐格鲁德']\n"
     ]
    }
   ],
   "source": [
    "import os\n",
    "# print(os.listdir('./audio529/'))\n",
    "folders = [f for f in os.listdir('./audio_fgo/')] # 获取当前目录下所有文件夹\n",
    "print(folders)\n",
    "for folder in folders:\n",
    "    if not os.listdir('./audio_fgo/'+folder): # 判断文件夹是否为空\n",
    "        print(f\"{folder} is empty.\")\n",
    "    else:\n",
    "        # print(f\"{folder} is not empty.\")\n",
    "        continue\n"
   ]
  },
  {
   "cell_type": "code",
   "execution_count": 3,
   "metadata": {},
   "outputs": [
    {
     "name": "stdout",
     "output_type": "stream",
     "text": [
      "Removed empty folder: ./audio/BeastⅣ\n",
      "Removed empty folder: ./audio/冲田・J・总司\n",
      "Removed empty folder: ./audio/夏洛特・科黛\n",
      "Removed empty folder: ./audio/多布雷尼亚・尼基季奇\n",
      "Removed empty folder: ./audio/威廉・退尔\n",
      "Removed empty folder: ./audio/巴沙洛缪・罗伯茨\n",
      "Removed empty folder: ./audio/拉克什米・芭伊\n",
      "Removed empty folder: ./audio/格里戈里・拉斯普京\n",
      "Removed empty folder: ./audio/玛丽・安宁\n",
      "Removed empty folder: ./audio/罗穆路斯・奎里努斯\n",
      "Removed empty folder: ./audio/美游・艾德费尔特\n",
      "Removed empty folder: ./audio/谜之Alterego・Λ\n",
      "Removed empty folder: ./audio/阿尔托莉雅・卡斯特\n",
      "Removed empty folder: ./audio/阿比盖尔・威廉姆斯〔夏〕\n",
      "Removed empty folder: ./audio/马纳南・麦克・利尔〔巴泽特〕\n",
      "Removed empty folder: ./audio/魁札尔・科亚特尔〔桑巴／圣诞〕\n"
     ]
    }
   ],
   "source": [
    "import os\n",
    "import shutil\n",
    "\n",
    "def remove_empty_folders(path):\n",
    "    for root, dirs, files in os.walk(path, topdown=False):\n",
    "        for folder in dirs:\n",
    "            full_path = os.path.join(root, folder)\n",
    "            try:\n",
    "                if not os.listdir(full_path):\n",
    "                    os.rmdir(full_path)\n",
    "                    print(f'Removed empty folder: {full_path}')\n",
    "            except Exception as e:\n",
    "                print(f'Error: {e}')\n",
    "                \n",
    "path = \"./audio/\"\n",
    "\n",
    "remove_empty_folders(path)"
   ]
  }
 ],
 "metadata": {
  "kernelspec": {
   "display_name": "NLP",
   "language": "python",
   "name": "python3"
  },
  "language_info": {
   "codemirror_mode": {
    "name": "ipython",
    "version": 3
   },
   "file_extension": ".py",
   "mimetype": "text/x-python",
   "name": "python",
   "nbconvert_exporter": "python",
   "pygments_lexer": "ipython3",
   "version": "3.7.5"
  },
  "orig_nbformat": 4
 },
 "nbformat": 4,
 "nbformat_minor": 2
}
