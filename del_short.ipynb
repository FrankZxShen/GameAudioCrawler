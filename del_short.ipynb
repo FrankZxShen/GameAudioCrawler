{
 "cells": [
  {
   "cell_type": "code",
   "execution_count": null,
   "metadata": {},
   "outputs": [],
   "source": [
    "! ffmpeg"
   ]
  },
  {
   "cell_type": "code",
   "execution_count": null,
   "metadata": {},
   "outputs": [],
   "source": [
    "# 测试\n",
    "import os\n",
    "from pydub import AudioSegment\n",
    "def delete_short_audio_files(folder_path, min_duration):\n",
    "    for root, dirs, files in os.walk(folder_path):\n",
    "        for file in files:\n",
    "            if file.endswith(\".wav\") or file.endswith(\".mp3\"):\n",
    "                file_path = os.path.join(root, file)\n",
    "                audio = AudioSegment.from_file(file_path)\n",
    "                duration = len(audio) / 1000  # Convert duration to seconds\n",
    "                if duration < min_duration:\n",
    "                    os.remove(file_path)\n",
    "                    print(f\"Deleted {file_path}\")\n",
    "\n",
    "# Set the folder path and minimum duration\n",
    "folder_path = \"./test/\"\n",
    "min_duration = 2.5  # Minimum duration in seconds\n",
    "\n",
    "# Call the function to delete short audio files\n",
    "delete_short_audio_files(folder_path, min_duration)\n"
   ]
  },
  {
   "cell_type": "code",
   "execution_count": null,
   "metadata": {},
   "outputs": [],
   "source": [
    "files = os.listdir('./audio/')\n",
    "dirs = [i for i in files if os.path.isdir(os.path.join('./audio/', i))]\n",
    "print(dirs)"
   ]
  },
  {
   "cell_type": "code",
   "execution_count": null,
   "metadata": {},
   "outputs": [],
   "source": [
    "# 测试\n",
    "import os\n",
    "from tqdm import *\n",
    "from pydub import AudioSegment\n",
    "def delete_short_audio_files(folder_path, min_duration):\n",
    "    for root, dirs, files in os.walk(folder_path):\n",
    "        print('角色名称：',folder_path)\n",
    "        for file in tqdm(files):\n",
    "            if file.endswith(\".wav\") or file.endswith(\".mp3\"):\n",
    "                file_path = os.path.join(root, file)\n",
    "                audio = AudioSegment.from_file(file_path)\n",
    "                duration = len(audio) / 1000  # Convert duration to seconds\n",
    "                if duration < min_duration:\n",
    "                    os.remove(file_path)\n",
    "                    print(f\"删除 {file_path}\")\n",
    "\n",
    "# Set the folder path and minimum duration\n",
    "folder_path = \"./audio/\"\n",
    "files = os.listdir('./audio/')\n",
    "dirs = [i for i in files if os.path.isdir(os.path.join('./audio/', i))]\n",
    "min_duration = 2  # Minimum duration in seconds\n",
    "\n",
    "# Call the function to delete short audio files\n",
    "for dir in dirs:\n",
    "    path = folder_path + dir\n",
    "    delete_short_audio_files(path, min_duration)"
   ]
  },
  {
   "cell_type": "code",
   "execution_count": 16,
   "metadata": {},
   "outputs": [
    {
     "name": "stdout",
     "output_type": "stream",
     "text": [
      "['七七香', '七七香（夏日）', '亚里莎', '伊绪', '伊绪（夏日）', '伊莉亚', '伊莉亚（圣诞节）', '优妮', '优衣', '优衣（公主）', '优衣（新年）', '优衣（礼服）', '似似花', '似似花（新年）', '佩可莉姆', '佩可莉姆（公主）', '佩可莉姆（夏日）', '佩可莉姆（新年）', '依里', '依里（天使）', '克罗依', '克罗依（圣学祭）', '克莉丝提娜', '克莉丝提娜（圣诞节）', '凛（偶像大师）', '凯露', '凯露（公主）', '凯露（夏日）', '凯露（新年）', '初音', '初音（夏日）', '千歌', '千歌（圣诞节）', '千歌（夏日）', '千爱瑠', '千爱瑠（圣学祭）', '卯月（偶像大师）', '古蕾雅', '可可萝', '可可萝（公主）', '可可萝（夏日）', '可可萝（新年）', '可可萝（礼服）', '咲恋', '咲恋（圣诞节）', '咲恋（夏日）', '嘉夜', '妮侬', '妮侬（大江户）', '姬塔', '安', '宫子', '宫子（万圣节）', '忍', '忍（万圣节）', '怜', '怜（万圣节）', '怜（公主）', '怜（新年）', '惠理子', '惠理子（夏日）', '惠理子（情人节）', '拉姆', '日和莉', '日和莉（公主）', '日和莉（新年）', '智', '智（魔法少女）', '望', '望（圣诞节）', '望（夏日）', '未央（偶像大师）', '未奏希', '未奏希、美美、镜华', '未奏希（万圣节）', '杏奈', '杏奈（夏日）', '栞', '栞（魔法少女）', '步美', '步美（仙境）', '流夏', '流夏（夏日）', '深月', '爱蜜莉雅', '环奈', '环奈（振袖）', '珠希', '珠希（夏日）', '璃乃', '璃乃（仙境）', '由加莉', '由加莉（圣诞节）', '真步', '真步（夏日）', '真步（灰姑娘）', '真琴', '真琴（夏日）', '真琴（灰姑娘）', '真阳', '真阳（游骑兵）', '矛依未', '矛依未（新年）', '碧', '碧（工作服）', '碧（插班生）', '祈梨', '祈梨（时间旅行）', '秋乃', '秋乃（圣诞节）', '空花', '空花（大江户）', '纯', '纯（夏日）', '纺希', '纺希（万圣节）', '绫音', '绫音（圣诞节）', '美冬', '美冬（夏日）', '美冬（工作服）', '美咲', '美咲（万圣节）', '美美', '美美（万圣节）', '美里', '美里（夏日）', '胡桃', '胡桃（圣诞节）', '茉莉', '茉莉（万圣节）', '茜里', '茜里（天使）', '莉玛', '莉玛（灰姑娘）', '莫妮卡', '莫妮卡（魔法少女）', '菈比莉斯塔', '菈比莉斯塔（Overload）', '铃', '铃奈', '铃奈（夏日）', '铃莓', '铃莓（夏日）', '铃莓（新年）', '铃（游骑兵）', '镜华', '镜华（万圣节）', '雪', '雪菲', '雷姆', '露', '露娜', '静流', '静流（夏日）', '静流（情人节）', '香澄', '香澄（夏日）', '香澄（魔法少女）', '香织', '香织（夏日）']\n",
      "亚里莎\n",
      "佩可莉姆（新年）\n",
      "千歌（夏日）\n",
      "咲恋（夏日）\n",
      "姬塔\n",
      "安\n",
      "怜（万圣节）\n",
      "怜（公主）\n",
      "惠理子（夏日）\n",
      "拉姆\n",
      "望（圣诞节）\n",
      "望（夏日）\n",
      "未奏希（万圣节）\n",
      "由加莉（圣诞节）\n",
      "真阳（游骑兵）\n",
      "碧（工作服）\n",
      "秋乃（圣诞节）\n",
      "纯（夏日）\n",
      "纺希\n",
      "美冬（夏日）\n",
      "美美（万圣节）\n",
      "茉莉（万圣节）\n",
      "露娜\n",
      "静流（夏日）\n"
     ]
    }
   ],
   "source": [
    "# 判断文件大小，选择数据集填充\n",
    "folder_path = \"./audio/\"\n",
    "files = os.listdir('./audio/')\n",
    "dirs = [i for i in files if os.path.isdir(os.path.join('./audio/', i))]\n",
    "print(dirs)\n",
    "for i in dirs:\n",
    "    sum = 0 \n",
    "    for wav in os.listdir(folder_path+'/'+i):\n",
    "        sum += int(os.path.getsize(folder_path+i+'/'+wav))     \n",
    "    if sum <= 1*1024*1024:\n",
    "        print(i)"
   ]
  }
 ],
 "metadata": {
  "kernelspec": {
   "display_name": "NLP",
   "language": "python",
   "name": "python3"
  },
  "language_info": {
   "codemirror_mode": {
    "name": "ipython",
    "version": 3
   },
   "file_extension": ".py",
   "mimetype": "text/x-python",
   "name": "python",
   "nbconvert_exporter": "python",
   "pygments_lexer": "ipython3",
   "version": "3.7.5"
  },
  "orig_nbformat": 4
 },
 "nbformat": 4,
 "nbformat_minor": 2
}
