{
 "cells": [
  {
   "cell_type": "code",
   "execution_count": 1,
   "metadata": {},
   "outputs": [
    {
     "name": "stdout",
     "output_type": "stream",
     "text": [
      "看响应参数是不是200判断url是否能访问\n",
      "<Response [200]>\n"
     ]
    }
   ],
   "source": [
    "# 测试网址是否可用\n",
    "import time\n",
    "import requests\n",
    "print(\"看响应参数是不是200判断url是否能访问\")\n",
    "headers = {\n",
    "    'User-Agent': 'Mozilla/5.0 (Windows NT 10.0; Win64; x64) AppleWebKit/537.36 (KHTML, like Gecko) Chrome/79.0.3945.88 Safari/537.36',\n",
    "    'Referer': 'https://wiki.biligame.com/umamusume/%E8%B5%9B%E9%A9%AC%E5%A8%98%E5%9B%BE%E9%89%B4',\n",
    "    'csrf': 'RUJ53PGJ4ZD',\n",
    "    'Cookie': 'Hm_lvt_cdb524f42f0ce19b169a8071123a4797=1577029678,1577034191,1577034210,1577076651; Hm_lpvt_cdb524f42f0ce19b169a8071123a4797=1577080777; kw_token=RUJ53PGJ4ZD'\n",
    "}\n",
    "response = requests.get(\n",
    "    \"https://patchwiki.biligame.com/images/umamusume/e/e6/s0etd5yl7cza64qo1gyhutojtkuykmq.mp3\", headers=headers)\n",
    "print(response)"
   ]
  },
  {
   "cell_type": "code",
   "execution_count": 21,
   "metadata": {},
   "outputs": [
    {
     "name": "stdout",
     "output_type": "stream",
     "text": [
      "[['https://patchwiki.biligame.com/images/umamusume/1/12/0amqz1pvzjeg1r7v85z0ngxz2jiiemh.mp3'], ['https://patchwiki.biligame.com/images/umamusume/e/ea/2wq3gso8smu19cqufc781q8y21vpot8.mp3'], ['https://patchwiki.biligame.com/images/umamusume/1/12/kzw1ujwtn29cdxtj0axqmsa9gy6xa9l.mp3'], ['https://patchwiki.biligame.com/images/umamusume/3/37/5se34cjj4i1uuweg81gkez8me1juhwu.mp3'], ['https://patchwiki.biligame.com/images/umamusume/e/e6/s0etd5yl7cza64qo1gyhutojtkuykmq.mp3'], ['https://patchwiki.biligame.com/images/umamusume/f/f7/5xobq2r2ic4nk342ajwdlcjlnsnz081.mp3'], ['https://patchwiki.biligame.com/images/umamusume/2/25/8lvmvplslnxzws0robijgo49in4mb6j.mp3'], ['https://patchwiki.biligame.com/images/umamusume/3/33/lif49rcmsx3fsnwl7x805abm8ubl7pk.mp3'], ['https://patchwiki.biligame.com/images/umamusume/8/86/cebxtkb4k0l4b4qxa621810fv9uq1xc.mp3'], ['https://patchwiki.biligame.com/images/umamusume/9/93/q35npaeanjce4m9veobj33vxs543c9i.mp3'], ['https://patchwiki.biligame.com/images/umamusume/e/e0/sp56zohk13ogyu4fzqo6xg7l9vwowvr.mp3'], ['https://patchwiki.biligame.com/images/umamusume/4/41/4yj2sxm1ezt2iu3mz2mr5fglldfemg6.mp3'], ['https://patchwiki.biligame.com/images/umamusume/c/cf/l5j13d9sxv5qv2opvykza0u68vhau8g.mp3'], ['https://patchwiki.biligame.com/images/umamusume/5/59/jq5y7jj0v6rr9sraloimbh4gwo9may7.mp3'], ['https://patchwiki.biligame.com/images/umamusume/e/ef/c6tbzrk4zhr1dax9u0a6scfx9vnwpkh.mp3'], ['https://patchwiki.biligame.com/images/umamusume/6/6e/06rgdwe1zstaiuwxfixkmh8q83w9qr5.mp3'], ['https://patchwiki.biligame.com/images/umamusume/7/73/a9adm6m2fbfy2yrr4ucsp3dz60v3d8d.mp3'], ['https://patchwiki.biligame.com/images/umamusume/9/95/e6i22g0o9d6a7ant8rb1pe5gtm3beiu.mp3'], ['https://patchwiki.biligame.com/images/umamusume/1/1f/j1gl4onpzvf70bkrln87nrvcuip5n79.mp3'], ['https://patchwiki.biligame.com/images/umamusume/d/d5/obludk55s8hkwbt02mbrug97ehqts5d.mp3'], ['https://patchwiki.biligame.com/images/umamusume/8/87/oeve4smbkcn7z83sxlh4cl260pkstjx.mp3'], ['https://patchwiki.biligame.com/images/umamusume/2/20/3bitgnt19qbzwq1y9hzi2rwh8ndz1lu.mp3'], ['https://patchwiki.biligame.com/images/umamusume/b/b2/894pu4v5ea33krbn6d2xkyryl9v1t48.mp3'], ['https://patchwiki.biligame.com/images/umamusume/4/49/lk5zvl8ngcjeu6dbmae56tfocf0xxbm.mp3'], ['https://patchwiki.biligame.com/images/umamusume/1/14/40zm5x9ejc4ijjjofuyd3it9dswqj79.mp3'], ['https://patchwiki.biligame.com/images/umamusume/b/b7/rdt3q92qa1goy0unv924d5a4pb1tpya.mp3'], ['https://patchwiki.biligame.com/images/umamusume/2/26/ozea7tgioezsykduuxzot8wi3ripnn7.mp3'], ['https://patchwiki.biligame.com/images/umamusume/7/76/rrri7w1h2v6b8ecm72hf6szl2day58g.mp3'], ['https://patchwiki.biligame.com/images/umamusume/a/ad/p5b9bd08fkn0pnjj7f1vypgpx2xckcg.mp3'], ['https://patchwiki.biligame.com/images/umamusume/c/c8/1ddxnnb7g67jcq9c4gnf3sg0llkl58a.mp3'], ['https://patchwiki.biligame.com/images/umamusume/f/fb/a0hrcegw3rpqqe5t9cs47sjv8kqiask.mp3'], ['https://patchwiki.biligame.com/images/umamusume/0/0f/s594yclnhbxe2ga4bcr3srx1qlxmhrs.mp3'], ['https://patchwiki.biligame.com/images/umamusume/1/12/5e5iosjui71jr5xr67qdpiv46qqzhmi.mp3'], ['https://patchwiki.biligame.com/images/umamusume/6/60/phaopulf2jemuwyfdz66w0dkkbtq3tw.mp3'], ['https://patchwiki.biligame.com/images/umamusume/5/5b/4kiq6onqbp4nzhqg8mip9eqvx3z7be5.mp3'], ['https://patchwiki.biligame.com/images/umamusume/e/e7/0ph946mlbz4fwuqguolpwaqxk7l1u39.mp3'], ['https://patchwiki.biligame.com/images/umamusume/a/a7/61q7ygf9jg78xrzrackeavfg7m1lfoz.mp3'], ['https://patchwiki.biligame.com/images/umamusume/0/02/9deh1cuq5rgoa11qx8i3yignz6xmszc.mp3'], ['https://patchwiki.biligame.com/images/umamusume/0/04/dbsjakemvzavvj81fi060ov38iepg9g.mp3'], ['https://patchwiki.biligame.com/images/umamusume/1/13/qg2mc939julxyzsqkv757px95xylgio.mp3'], ['https://patchwiki.biligame.com/images/umamusume/2/21/5r0yruv8ymkd30qqa0743992yilw95s.mp3'], ['https://patchwiki.biligame.com/images/umamusume/5/55/bgewtg72cgtj17dfsxxmc6mfe8fn2b3.mp3'], ['https://patchwiki.biligame.com/images/umamusume/5/5b/nigqzzp8dlqwkupyrxx44o79vczvz06.mp3'], ['https://patchwiki.biligame.com/images/umamusume/e/e8/g2zpdfja5et4xghk0sp2x2mks663a0i.mp3'], ['https://patchwiki.biligame.com/images/umamusume/d/d6/oqniw4by7coudk3rd6njlo9pu39g38o.mp3'], ['https://patchwiki.biligame.com/images/umamusume/6/69/00ejzswxxc8q4z89j53xi48h8c92hp0.mp3'], ['https://patchwiki.biligame.com/images/umamusume/3/3f/2cc1os67s1mlvzufrpyj1oz182hczpb.mp3'], ['https://patchwiki.biligame.com/images/umamusume/2/2b/jzky9b62m0uu3v9xg2ts9ggdt17bqi8.mp3'], ['https://patchwiki.biligame.com/images/umamusume/6/6d/t7a5ua3bgvrpkgpm6dyvvralqfjrso4.mp3'], ['https://patchwiki.biligame.com/images/umamusume/5/57/iiyygja7fwttxfw61g8ngfvxfluk6np.mp3'], ['https://patchwiki.biligame.com/images/umamusume/2/27/ndzjcmmoo0x9e3wppycjrcef77c1sr2.mp3'], ['https://patchwiki.biligame.com/images/umamusume/f/f7/a6k7u1y20avrrnobc1lfbsdmnz7dui6.mp3'], ['https://patchwiki.biligame.com/images/umamusume/7/70/5xitxxil6u5nqg4l0jddazmmgyr5j81.mp3'], ['https://patchwiki.biligame.com/images/umamusume/5/58/90ez4kplwg4j9wmi4ez0nvh34bvizfr.mp3'], ['https://patchwiki.biligame.com/images/umamusume/1/1e/jd64hf2knn60m0wkiwp5c5giay0w4ba.mp3'], ['https://patchwiki.biligame.com/images/umamusume/6/68/rdl2resw71odkp76yljylhqg1g14vsg.mp3'], ['https://patchwiki.biligame.com/images/umamusume/2/20/ds7sytky0mveryx8hcolhptj2rv0nb3.mp3'], ['https://patchwiki.biligame.com/images/umamusume/0/04/ptbm8cdn30clk7kgo4ywyys3dty396l.mp3'], ['https://patchwiki.biligame.com/images/umamusume/4/41/h5uso4sszkzheroo8rjr5c3rtpuv6ry.mp3'], ['https://patchwiki.biligame.com/images/umamusume/4/49/qq3yl8fy4l47wffogth0d606rxbzc2t.mp3'], ['https://patchwiki.biligame.com/images/umamusume/b/ba/d13tsfs6266xm30z3njqhls1d7cm57v.mp3'], ['https://patchwiki.biligame.com/images/umamusume/8/8e/c8hlfywojn4oii3dm1wp2h39ozt7o28.mp3'], ['https://patchwiki.biligame.com/images/umamusume/0/04/1epk3d1pg22d6vkkcxf7aiea4hv48xn.mp3'], ['https://patchwiki.biligame.com/images/umamusume/c/ce/b6bq9qeibiba18shi0y353weosv0ubc.mp3'], ['https://patchwiki.biligame.com/images/umamusume/b/b3/n6csi25fz0mbju7cn4ofneyybxpd8rk.mp3'], ['https://patchwiki.biligame.com/images/umamusume/6/6f/fhi9lph5f7gytfd0pwxi9fdzn40mvo8.mp3'], ['https://patchwiki.biligame.com/images/umamusume/3/3b/pmamsbc773k4nx5z200ey16qey42y5j.mp3'], ['https://patchwiki.biligame.com/images/umamusume/2/2b/m8joepqz9332bnjjb1ep48nvz7flonb.mp3'], ['https://patchwiki.biligame.com/images/umamusume/d/d0/e727y7cdz53quob8f8ujjjq8ns56xf6.mp3'], ['https://patchwiki.biligame.com/images/umamusume/8/89/ip4mhlczjaab4pd2k08rr67t87ubbyv.mp3'], ['https://patchwiki.biligame.com/images/umamusume/2/22/hdcfhij5zbamlmomhn639dkbb9sk5sr.mp3'], ['https://patchwiki.biligame.com/images/umamusume/5/54/35f6d8u6xedudyikppyxc0wjwbj78ty.mp3'], ['https://patchwiki.biligame.com/images/umamusume/c/c8/mkn3ep2k5s0kkynl2tu5u8ftoxtlvru.mp3'], ['https://patchwiki.biligame.com/images/umamusume/b/bb/dwgwqjhgitie3owmyobc0ymhowrsdzk.mp3'], ['https://patchwiki.biligame.com/images/umamusume/f/f5/nzrynj11uy3wux2m07yckz8cp4rj3ql.mp3'], ['https://patchwiki.biligame.com/images/umamusume/6/6c/jk0184r6wyxlnypatulk4bak96beo05.mp3'], ['https://patchwiki.biligame.com/images/umamusume/4/4c/miaqj9jxq6w451u4vt61zfhxtnob0u5.mp3'], ['https://patchwiki.biligame.com/images/umamusume/0/00/f9wlb1952hgcmq4gf244pfopli1csj0.mp3'], ['https://patchwiki.biligame.com/images/umamusume/4/4b/m2wkcex09waal7mufxfwpktgcoeeckt.mp3'], ['https://patchwiki.biligame.com/images/umamusume/8/87/lztl7la20w7z7lfa7h44a9k1b5zadw2.mp3'], ['https://patchwiki.biligame.com/images/umamusume/6/6c/96689djzbhgd0p18i03ja6t8sl2b0wb.mp3'], ['https://patchwiki.biligame.com/images/umamusume/c/cc/pi9x3g7ccho53ptp71j42s4vfy4xrjv.mp3'], ['https://patchwiki.biligame.com/images/umamusume/f/fd/oejhabhft8gbnaoom0dwk88z2cougq0.mp3'], ['https://patchwiki.biligame.com/images/umamusume/2/24/tuflrwdi7552iy9w1ib5vvtx2p8s75z.mp3'], ['https://patchwiki.biligame.com/images/umamusume/f/fe/lb9qrx86wtlu85isrsmh4gfus188fxn.mp3'], ['https://patchwiki.biligame.com/images/umamusume/b/b4/otlm6rp3ilf8la8tvf8h2e7d4sl668y.mp3'], ['https://patchwiki.biligame.com/images/umamusume/0/0f/bpgqr246k1ah9h8hez1l4rqqh8fz21h.mp3'], ['https://patchwiki.biligame.com/images/umamusume/c/ca/6efjv9cjr1k40hvucxtnhov833ilgxy.mp3'], ['https://patchwiki.biligame.com/images/umamusume/c/c0/46i147b6is0sr1xcho9ygjdkbwrs4b8.mp3'], ['https://patchwiki.biligame.com/images/umamusume/7/77/3fpt6pkpi3r2ujrrarvnv8zujhvrr8x.mp3'], ['https://patchwiki.biligame.com/images/umamusume/f/f2/s441dzqi91reirhxai4x2ap3o5s0o62.mp3'], ['https://patchwiki.biligame.com/images/umamusume/4/4c/96nsypwkc57s56jp8lgfd1dwe7udi1c.mp3'], ['https://patchwiki.biligame.com/images/umamusume/0/06/pg7sz15im33o8ca0f80uhlfl7yu8ykn.mp3'], ['https://patchwiki.biligame.com/images/umamusume/a/a9/c82wszh1yesxbffd3qtqqoyeaomb47h.mp3'], ['https://patchwiki.biligame.com/images/umamusume/7/70/kb1mvpqr5fqndlcaoe5u68sbv2xflvg.mp3'], ['https://patchwiki.biligame.com/images/umamusume/4/40/jzfn4rl0wvrag0vneo2jn0xqrgx18m2.mp3'], ['https://patchwiki.biligame.com/images/umamusume/d/d5/kd0fgfb8xxlx4prbnwueef13bw5m36e.mp3'], ['https://patchwiki.biligame.com/images/umamusume/c/c1/8y1tur94gdyy97fmdaqgw3awxhjeyg4.mp3'], ['https://patchwiki.biligame.com/images/umamusume/1/1a/lv94aquq1mh91udr77d5zbht69juehr.mp3'], ['https://patchwiki.biligame.com/images/umamusume/c/c0/oi5wxszhke6jtyy0f1tep6mtx9kpf4z.mp3'], ['https://patchwiki.biligame.com/images/umamusume/3/35/8y93pgabn1kz6c7iwbv35jc4c2kb0c9.mp3'], ['https://patchwiki.biligame.com/images/umamusume/0/02/qnffywn0ha4v67ljawg3vbdy9ja80ny.mp3'], ['https://patchwiki.biligame.com/images/umamusume/3/30/03s336hczjmjb3a0h9qruet8b3j3w1j.mp3'], ['https://patchwiki.biligame.com/images/umamusume/0/09/g7olmq3si6zz2qpafa821abkie6zone.mp3'], ['https://patchwiki.biligame.com/images/umamusume/e/ed/qo7x17ohkqmr40rt88zn1188h2owozw.mp3'], ['https://patchwiki.biligame.com/images/umamusume/7/7b/6zbv92tfob2arr5c5vj7m87gqyllahm.mp3'], ['https://patchwiki.biligame.com/images/umamusume/f/fa/afp0nbwqpfxlzcuxf2a4qza6cbkoznn.mp3'], ['https://patchwiki.biligame.com/images/umamusume/b/b6/cjbixpp22el62q4p3ebd49ackpa7ctw.mp3'], ['https://patchwiki.biligame.com/images/umamusume/6/62/cuy68pr22i9666b0sohvvz6o47fgo6s.mp3'], ['https://patchwiki.biligame.com/images/umamusume/5/50/1froazadrudfj84cmfrcggt3gjdsez9.mp3'], ['https://patchwiki.biligame.com/images/umamusume/8/8d/89ob3xs8d2yz94pygrdcgbc0k1jssjl.mp3'], ['https://patchwiki.biligame.com/images/umamusume/f/f5/iy0mjo45s54n53dl5hj49z2u9vb1q98.mp3'], ['https://patchwiki.biligame.com/images/umamusume/6/6e/3n8rrkcn1u5qdq19dqs7ysiv0igzp8j.mp3'], ['https://patchwiki.biligame.com/images/umamusume/e/ea/5pwuals1m1a2sixx9fthudk21ga3rbi.mp3'], ['https://patchwiki.biligame.com/images/umamusume/8/8d/o4178s6h0hp0lmbvdb2z4es0sswm2rv.mp3'], ['https://patchwiki.biligame.com/images/umamusume/d/d6/48z8fl0jmojd3v8whfudi8md74r66tb.mp3'], ['https://patchwiki.biligame.com/images/umamusume/5/58/l58oss6ni0a5qc8evyusd8q7vlzxshg.mp3'], ['https://patchwiki.biligame.com/images/umamusume/1/19/p3wisdb7x08dn68e6862ng7rwx79i0m.mp3'], ['https://patchwiki.biligame.com/images/umamusume/0/0c/nkd9zo2ye8l70zz1uq71154objxke4n.mp3'], ['https://patchwiki.biligame.com/images/umamusume/3/34/kewlqekvl9r7u4eef1ne0pzbovbrf4y.mp3'], ['https://patchwiki.biligame.com/images/umamusume/2/25/e29rzy59npcusel64chc33f5n3gj06r.mp3'], ['https://patchwiki.biligame.com/images/umamusume/5/56/1sar8lj6f5ox9lgvyfwzb05hhvfcmal.mp3'], ['https://patchwiki.biligame.com/images/umamusume/a/ad/fl0jz9xcsbsyox9ffydt398yxauxm4r.mp3'], ['https://patchwiki.biligame.com/images/umamusume/d/d1/mj60orly7byeiozl4x9rub05liff86x.mp3'], ['https://patchwiki.biligame.com/images/umamusume/f/fd/oylilh3azvojopfj2n1bxjbgx5fp1gz.mp3'], ['https://patchwiki.biligame.com/images/umamusume/e/e8/c0chvaaookam6r90m9ox19mv8f56nxw.mp3'], ['https://patchwiki.biligame.com/images/umamusume/e/e6/ok7rlr8whwfbpk6m63hse0b0zp5afpv.mp3'], ['https://patchwiki.biligame.com/images/umamusume/1/12/9ne5wsknfbzwkvl9ru81980y6oqg5mg.mp3'], ['https://patchwiki.biligame.com/images/umamusume/7/7c/eirhntqr2uvemyr9o82g78vfkejh7cw.mp3'], ['https://patchwiki.biligame.com/images/umamusume/c/c3/qtk1adxet543wc83vbix7hsviiriizl.mp3'], ['https://patchwiki.biligame.com/images/umamusume/7/7d/ns1d7kk1ex4wb0jb26wqabzmcbtd3ii.mp3'], ['https://patchwiki.biligame.com/images/umamusume/c/cc/lbw2ebi6gveko55znfj9zxrrp5iskjd.mp3'], ['https://patchwiki.biligame.com/images/umamusume/c/c2/q7abiooi4rafk3o4q4gml0h2r7zfknk.mp3'], ['https://patchwiki.biligame.com/images/umamusume/a/a1/9j40bitgt27b8am86felsfbzioost3l.mp3'], ['https://patchwiki.biligame.com/images/umamusume/2/23/lacgrikhy0v45t05ety2qnsl3qd75lr.mp3'], ['https://patchwiki.biligame.com/images/umamusume/d/d4/pn9j0hxr4o1i9osa6n3wnom1yo4v7ec.mp3'], ['https://patchwiki.biligame.com/images/umamusume/7/76/a4d3cp6r22xylwkloxggo7c0d4envy1.mp3'], ['https://patchwiki.biligame.com/images/umamusume/3/38/bdbblmhsqknye2dsot5pef7resiee2g.mp3'], ['https://patchwiki.biligame.com/images/umamusume/9/9d/1zmi46xqup0uu43fgmvunrhjy2k8vgw.mp3'], ['https://patchwiki.biligame.com/images/umamusume/7/71/t5tccj6avmqy8sme6w0emmdrz4mz691.mp3'], ['https://patchwiki.biligame.com/images/umamusume/8/81/pg5p7qst0p2s5tbuqbuahryawp2rx6f.mp3'], ['https://patchwiki.biligame.com/images/umamusume/9/9c/12pla7afx2rqfz9x35x3kuk4v7yewzd.mp3'], ['https://patchwiki.biligame.com/images/umamusume/7/72/525j2fbbptn0803x931h6txczjpa9k6.mp3'], ['https://patchwiki.biligame.com/images/umamusume/7/7d/brx9x2kcbxz6ix14jctdj2bn4m7ph25.mp3'], ['https://patchwiki.biligame.com/images/umamusume/b/b8/1wjxcjxk5vw4mbfl3yquxov0iqdrr0l.mp3'], ['https://patchwiki.biligame.com/images/umamusume/5/54/66v3ibq809j151ynr7pqwxkkmml3jek.mp3'], ['https://patchwiki.biligame.com/images/umamusume/f/fb/0o1phoglms95woxe1mwfylsj6bn6tue.mp3'], ['https://patchwiki.biligame.com/images/umamusume/2/2f/mzsrbna769jcvrku5u8fjit3vs4ydfo.mp3'], ['https://patchwiki.biligame.com/images/umamusume/e/ee/2fjaqbqsqyl07tl0kc21rlma5k7y8wy.mp3'], ['https://patchwiki.biligame.com/images/umamusume/1/14/7oxjy3or05rh7l6m502qdymwx11e01g.mp3'], ['https://patchwiki.biligame.com/images/umamusume/0/08/qsh8p09uvgnmn7x5tb7ukxgi5bhsmdt.mp3'], ['https://patchwiki.biligame.com/images/umamusume/c/cf/eeg98opb910tzft424qs3brmmtbecdo.mp3'], ['https://patchwiki.biligame.com/images/umamusume/7/7d/5sf0osifyne4swoo53rjz5j39koo79i.mp3'], ['https://patchwiki.biligame.com/images/umamusume/3/31/gtk4bk5997zs8p2f7odkhnj8t61ojyx.mp3'], ['https://patchwiki.biligame.com/images/umamusume/1/1a/rf370vf0q90hs7974b23weip7irc0x0.mp3'], ['https://patchwiki.biligame.com/images/umamusume/2/24/6fubvpcam7h8f1267ngxtpfm054ngx6.mp3'], ['https://patchwiki.biligame.com/images/umamusume/2/23/qyoyaby93knp6alq5oa5mcrs4w807in.mp3'], ['https://patchwiki.biligame.com/images/umamusume/d/d0/aszvne8ulcmebfzcd3co9z4ju4q0pdw.mp3'], ['https://patchwiki.biligame.com/images/umamusume/5/5b/pmor9zz8ney4a1hvu68jgxzoplbv9s8.mp3'], ['https://patchwiki.biligame.com/images/umamusume/7/78/oai7h1ndpzyofnm2uuvaxdceqmrntii.mp3'], ['https://patchwiki.biligame.com/images/umamusume/8/80/8m2320yu4vckxozy1w5f47oi4x432hv.mp3'], ['https://patchwiki.biligame.com/images/umamusume/7/79/o9hy9s5oepuwgzr5hhhlxxifi5pd00n.mp3'], ['https://patchwiki.biligame.com/images/umamusume/e/ef/nj0u4k69s6c0jvvej2tij66z1odlcpv.mp3'], ['https://patchwiki.biligame.com/images/umamusume/4/45/2otp0vdm4r9agrh5fi585vnf9leok1s.mp3'], ['https://patchwiki.biligame.com/images/umamusume/0/00/kt52o11sp92068dvpob63hxwemns067.mp3'], ['https://patchwiki.biligame.com/images/umamusume/e/e0/6x56z50bp1s1io3u9kd1aururfgiyar.mp3'], ['https://patchwiki.biligame.com/images/umamusume/5/5d/a5zs3gpfp6wtiu773pqhy9h9d4ox8y6.mp3'], ['https://patchwiki.biligame.com/images/umamusume/8/86/i8b8b4607ikwe84ln7nyf6hhqcgmlzj.mp3'], ['https://patchwiki.biligame.com/images/umamusume/8/82/8ijwc42xmzv4wc9zova232loz6abf38.mp3'], ['https://patchwiki.biligame.com/images/umamusume/5/57/olu5oysgjtnyzunksam3uo66p1n7700.mp3'], ['https://patchwiki.biligame.com/images/umamusume/e/ed/j14nx7ckjth2ah83iq752f6gv8tffwc.mp3'], ['https://patchwiki.biligame.com/images/umamusume/b/b9/1p62y4h3j2sgop27c281lzdyh9cf956.mp3'], ['https://patchwiki.biligame.com/images/umamusume/5/5d/fepkjgx4ntbn8igj518ek8ft1mnqz38.mp3'], ['https://patchwiki.biligame.com/images/umamusume/c/cc/izr4hn9k1k7kxlgefds9ccb1c1xia7r.mp3'], ['https://patchwiki.biligame.com/images/umamusume/a/a7/qva4hc6ykoxclh1pti7jq8qqfdwj6qe.mp3'], ['https://patchwiki.biligame.com/images/umamusume/9/94/qwjgreouc01esnhqrrw31zsjq330n0t.mp3'], ['https://patchwiki.biligame.com/images/umamusume/2/2b/p73015ymjhkuwpkuqn6ba6x388lbt4m.mp3'], ['https://patchwiki.biligame.com/images/umamusume/6/63/r0eyhqrs0mnj0o9o9gw6akl9k4g5l42.mp3'], ['https://patchwiki.biligame.com/images/umamusume/7/73/6ilxalhjiquzzz88sl4rgq0486v72b5.mp3'], ['https://patchwiki.biligame.com/images/umamusume/1/10/ha1g0t09jgcnozqre14apx3u7a5qo1c.mp3'], ['https://patchwiki.biligame.com/images/umamusume/f/f1/42y4nlj4b9syu1sb1rncb38scti0nx3.mp3'], ['https://patchwiki.biligame.com/images/umamusume/4/43/ax3mk8dx3nuz2gcxs7wbgnyfnfl5qxo.mp3'], ['https://patchwiki.biligame.com/images/umamusume/a/a4/n9wnwa7w2xv97rsr1rnskakxll36cg0.mp3'], [''], ['https://patchwiki.biligame.com/images/umamusume/6/6a/mwx189ucvhepn1o63sheubplptzu41l.mp3'], ['https://patchwiki.biligame.com/images/umamusume/6/6a/mwx189ucvhepn1o63sheubplptzu41l.mp3'], ['https://patchwiki.biligame.com/images/umamusume/7/72/iyaova4ops01xmw1kwml01tidynb1v8.mp3'], ['https://patchwiki.biligame.com/images/umamusume/6/69/5z8vs6or164mvob3r6mcd5rbqdv74db.mp3'], ['https://patchwiki.biligame.com/images/umamusume/f/f0/p8fkqw0cg6cfgan60u97ymvkesb86sc.mp3'], ['https://patchwiki.biligame.com/images/umamusume/3/36/bk8ek11rn1e9vi60qfu0akkhap3nljj.mp3'], ['https://patchwiki.biligame.com/images/umamusume/a/ac/5bniy1k7p5jz24sgu1zz2xurwuyr5if.mp3'], ['https://patchwiki.biligame.com/images/umamusume/d/df/3jugtisdfk8nrffns6psq0e40f3asgb.mp3'], ['https://patchwiki.biligame.com/images/umamusume/4/4f/c5vb92uanl6311fnuunv58240nkfy10.mp3'], ['https://patchwiki.biligame.com/images/umamusume/d/d5/995fy9buge0h18sl6uujw38bequo26n.mp3'], ['https://patchwiki.biligame.com/images/umamusume/2/24/j5k4k88bymjvv84vt0qneie7ed4grnq.mp3'], ['https://patchwiki.biligame.com/images/umamusume/1/14/px60l7wfa7l549u188chx722j6s2mae.mp3'], ['https://patchwiki.biligame.com/images/umamusume/6/63/8bi8ksp1crys1ckxooqas1inz4t5u7u.mp3'], ['https://patchwiki.biligame.com/images/umamusume/c/ca/2k4bbnrn907v9e2vhz5493kvugxkim2.mp3'], ['https://patchwiki.biligame.com/images/umamusume/3/38/6jdiwxenghs9auwy3mz71aa492v8q58.mp3'], ['https://patchwiki.biligame.com/images/umamusume/9/98/d81qs0hinqbazei2y3eq5e16sqikfmv.mp3'], [''], [''], ['https://patchwiki.biligame.com/images/umamusume/4/49/72lcuqqampj7aeysxy2ddsqmx1dltqe.mp3'], ['https://patchwiki.biligame.com/images/umamusume/f/fe/581qf0ucsjir6ilmcsehuczlbptf8ky.mp3'], ['https://patchwiki.biligame.com/images/umamusume/f/fe/ozzesbxb5dg5krkll4cwg8z86nde5aa.mp3'], ['https://patchwiki.biligame.com/images/umamusume/3/3e/m4qwbivnfeqntaqdyvboimr36pnm7jb.mp3'], ['https://patchwiki.biligame.com/images/umamusume/c/cb/9iubf9kr0juh53oxnf7xvbjzg1txrec.mp3'], ['https://patchwiki.biligame.com/images/umamusume/3/31/1ohdgafdtt6g3jzq5gvdw8pdn88rp10.mp3'], ['https://patchwiki.biligame.com/images/umamusume/9/9f/86rg9fydy2hwslsbf1u62bjr34lxzdd.mp3'], ['https://patchwiki.biligame.com/images/umamusume/3/3c/exdh0ft10b7072vgd33uwjavz46q66c.mp3'], ['https://patchwiki.biligame.com/images/umamusume/a/af/r1ic3degqhzvrfobpirbg94miwxryxz.mp3'], ['https://patchwiki.biligame.com/images/umamusume/0/0e/np1endoopezsi1otr75eg1ali53hhpg.mp3'], ['https://patchwiki.biligame.com/images/umamusume/6/6b/hs0oelrajc3wusdgohosf4zsjgf1s8x.mp3'], ['https://patchwiki.biligame.com/images/umamusume/6/6f/ihtkhq5wmam6a50hjol5xsj93o9xctr.mp3'], ['https://patchwiki.biligame.com/images/umamusume/e/eb/nnjr2kkb6l4w4zdnph1lx3yvgfdi4cu.mp3'], ['https://patchwiki.biligame.com/images/umamusume/4/40/cx8kwfz8gei21wvbqivu9ociol7d5kq.mp3'], ['https://patchwiki.biligame.com/images/umamusume/2/25/cs56xepsx6uqq4i6dqcsjr85hxcffwr.mp3'], ['https://patchwiki.biligame.com/images/umamusume/a/a8/bubkfg8ofxp16awqch62pzp8ili0uo7.mp3'], ['https://patchwiki.biligame.com/images/umamusume/e/e6/50ew8x7eccjga183o7bvu5898g0ie8d.mp3'], ['https://patchwiki.biligame.com/images/umamusume/c/c5/ogiew7eof092xppdpuuj14zn0vzclee.mp3'], ['https://patchwiki.biligame.com/images/umamusume/c/c5/05uo5tdpqnv8vnrvehrwme2f1fzfmfy.mp3'], ['https://patchwiki.biligame.com/images/umamusume/a/a3/4xzcic2gh2xims8fdmrhn9dxlq82sls.mp3'], ['https://patchwiki.biligame.com/images/umamusume/6/61/crn6k5h30zl4cy3cddb16h3eeuqmstx.mp3'], ['https://patchwiki.biligame.com/images/umamusume/8/81/223f7eo4paho7vh3cnh0ksa14fihzmc.mp3'], ['https://patchwiki.biligame.com/images/umamusume/0/0a/9tbmj30l9j4nyt3hji6vxtdfd5qyimq.mp3'], ['https://patchwiki.biligame.com/images/umamusume/b/b7/2jxqy21xld8b8zuppmoz0od5438bpoo.mp3'], ['https://patchwiki.biligame.com/images/umamusume/5/5d/cmojfk4pkq1vmj4jw08jwvb77jbm23u.mp3'], ['https://patchwiki.biligame.com/images/umamusume/6/69/jycsv5h5s19ttbhy1d776m4x1vfwp19.mp3'], ['https://patchwiki.biligame.com/images/umamusume/5/58/q0m35f22amrgwxz9mc79hy7bculw9u3.mp3'], ['https://patchwiki.biligame.com/images/umamusume/f/f2/1s9fsameassg236vaf1ge1lpdppu4sd.mp3'], ['https://patchwiki.biligame.com/images/umamusume/4/40/4m8n50psxjray2x4cr0fgora01r2g3p.mp3'], ['https://patchwiki.biligame.com/images/umamusume/1/13/nitq761yhw5xe4xvtjlb93xqnw8vuuv.mp3'], ['https://patchwiki.biligame.com/images/umamusume/8/89/nh2qelszvnp62z8qvhqwluvr60lra2u.mp3'], ['https://patchwiki.biligame.com/images/umamusume/b/b8/73rvkwc9pmdoekh9eo7hg02agx9kwdu.mp3'], ['https://patchwiki.biligame.com/images/umamusume/a/ae/fqowzgmqbwsiabrmsj8ctsnvijw3igd.mp3'], ['https://patchwiki.biligame.com/images/umamusume/e/ec/navkxf768eikgbca6ndsfe71bmbtl6w.mp3'], ['https://patchwiki.biligame.com/images/umamusume/1/11/tnhublh4m6pcfpkqq2t7bq6ujeeez06.mp3'], ['https://patchwiki.biligame.com/images/umamusume/5/5e/f1qvfswyt7lq1ftipselew620cxzyt7.mp3'], ['https://patchwiki.biligame.com/images/umamusume/6/6b/4rypcf25nmyipv5jdep8dux1zag1icw.mp3'], ['https://patchwiki.biligame.com/images/umamusume/b/bc/j5g0i54vgpvz3korus054ua8j6n13gv.mp3'], ['https://patchwiki.biligame.com/images/umamusume/7/74/ddyj1zfjnt1shb6kvdsjb9xhjgrwwac.mp3'], ['https://patchwiki.biligame.com/images/umamusume/0/04/o5l7puanf5ozfeecmiphwhaatisa9j6.mp3'], ['https://patchwiki.biligame.com/images/umamusume/b/b0/en39b31ee5dpjqwd42jjm0khk0u1g9p.mp3'], ['https://patchwiki.biligame.com/images/umamusume/a/a4/lmre0mkva48r8zsq9nutojef4vtd3pm.mp3'], ['https://patchwiki.biligame.com/images/umamusume/a/ae/3q3l63pdvmvtkta48iy7gq7aywbxuc9.mp3'], ['https://patchwiki.biligame.com/images/umamusume/7/75/ksqaivw4rli9gte2guetsacyetbmice.mp3'], ['https://patchwiki.biligame.com/images/umamusume/9/94/i65phvypnudr89qtdwqtcfrzpo5cskd.mp3'], ['https://patchwiki.biligame.com/images/umamusume/f/f2/8h74977ttg7y041pux6tys7snrn5of5.mp3'], ['https://patchwiki.biligame.com/images/umamusume/1/11/a2ela13z52tyj9ynaposrll2nfge5kd.mp3'], ['https://patchwiki.biligame.com/images/umamusume/4/44/pfnkxnq7yxhpnr1hotolle0je0zg156.mp3'], ['https://patchwiki.biligame.com/images/umamusume/3/31/fdi180kf77wahon1vjmkoxfsew1fruw.mp3'], ['https://patchwiki.biligame.com/images/umamusume/8/88/euj5ixzdc9s339lhe3vf3uw8yjur83z.mp3'], ['https://patchwiki.biligame.com/images/umamusume/b/b7/tpuyuo3sd4ikbaaiw8wyby68avgz4l7.mp3'], ['https://patchwiki.biligame.com/images/umamusume/d/d4/lkz65ct1eywtqpemerzl96cftv9z9i9.mp3'], ['https://patchwiki.biligame.com/images/umamusume/e/e7/s9yo7wik2ew1geryt34ackul97t0icv.mp3'], ['https://patchwiki.biligame.com/images/umamusume/8/85/1kvo97ongc5o2dy73tl2j8jjz538mxr.mp3'], ['https://patchwiki.biligame.com/images/umamusume/7/72/mbwbotaij7hr7v3w4max34iwfi3yvah.mp3'], ['https://patchwiki.biligame.com/images/umamusume/a/a0/i1xxr7eg3be223iyn17ku9t5esi19tb.mp3'], ['https://patchwiki.biligame.com/images/umamusume/9/93/psvfclfd0ml8txmmtwnc0fykmx3tb5y.mp3'], ['https://patchwiki.biligame.com/images/umamusume/1/19/s4rsmqinndai2are45tnpuehucxyoi1.mp3'], ['https://patchwiki.biligame.com/images/umamusume/0/0d/et7swzztadhoeqibf0mq9dgjf3d6hzm.mp3'], ['https://patchwiki.biligame.com/images/umamusume/0/01/eelwyin4fa1fuk963qi47hp30bunsdl.mp3'], ['https://patchwiki.biligame.com/images/umamusume/3/33/r32wjzjb2pywpreenk9l6xdeypor5fx.mp3'], ['https://patchwiki.biligame.com/images/umamusume/b/bf/bgu0pcay1adhu9hna8jepqnzlpq9ebo.mp3'], ['https://patchwiki.biligame.com/images/umamusume/b/be/j80g0r1rq54536y49bk6fev021g49hv.mp3'], ['https://patchwiki.biligame.com/images/umamusume/2/29/eekx4cs1gzfmdamiyyhpt85t3ptwp5s.mp3'], ['https://patchwiki.biligame.com/images/umamusume/b/bd/d16du73i47hq5ro9hs57rxi3hfkjne7.mp3'], ['https://patchwiki.biligame.com/images/umamusume/b/b2/cn98bt7emj940fi5u4yg0raszrja05c.mp3'], ['https://patchwiki.biligame.com/images/umamusume/a/a3/r3023826lz9lj0u71fq2e20mcjlm17m.mp3'], ['https://patchwiki.biligame.com/images/umamusume/3/32/mx05a3ew3kz4k97patsgnv3pnu3muzy.mp3'], [''], [''], ['']]\n"
     ]
    }
   ],
   "source": [
    "# 测试音频是否存在\n",
    "from bs4 import BeautifulSoup  \n",
    "import re\n",
    "headers = {\n",
    "    'User-Agent': 'Mozilla/5.0 (Windows NT 10.0; Win64; x64) AppleWebKit/537.36 (KHTML, like Gecko) Chrome/79.0.3945.88 Safari/537.36',\n",
    "    'Referer': 'https://wiki.biligame.com/umamusume/%E8%B5%9B%E9%A9%AC%E5%A8%98%E5%9B%BE%E9%89%B4',\n",
    "    'csrf': 'RUJ53PGJ4ZD',\n",
    "    'Cookie': 'Hm_lvt_cdb524f42f0ce19b169a8071123a4797=1577029678,1577034191,1577034210,1577076651; Hm_lpvt_cdb524f42f0ce19b169a8071123a4797=1577080777; kw_token=RUJ53PGJ4ZD'\n",
    "}\n",
    "url = 'https://wiki.biligame.com/umamusume/%E7%89%B9%E5%88%AB%E5%91%A8' \n",
    "res = requests.get(url,headers=headers).text \n",
    "content = BeautifulSoup(res, \"html.parser\") \n",
    "data = content.find_all('div', attrs={'class': 'visible-xs visible-md visible-sm visible-lg'}) \n",
    "rex = re.compile('<div class=\"bikit-audio\" data-mode=\"default\" data-src=\"(.*?)\"></div>') \n",
    "# print(data)\n",
    "audio_list = [] \n",
    "for d in data: \n",
    "    alist = re.findall(rex, str(d))\n",
    "    audio_list.append(alist) \n",
    "print(audio_list)"
   ]
  },
  {
   "cell_type": "code",
   "execution_count": null,
   "metadata": {},
   "outputs": [],
   "source": [
    "#!!!!!!!!!!!!!!!从这里开始执行\n",
    "# 测试角色是否存在\n",
    "# 生成角色名\n",
    "from bs4 import BeautifulSoup\n",
    "import re\n",
    " \n",
    "headers = {\n",
    "    'User-Agent': 'Mozilla/5.0 (Windows NT 10.0; Win64; x64) AppleWebKit/537.36 (KHTML, like Gecko) Chrome/79.0.3945.88 Safari/537.36',\n",
    "    'Referer': 'http://www.kuwo.cn/search/list?key=%E5%91%A8%E6%9D%B0%E4%BC%A6',\n",
    "    'csrf': 'RUJ53PGJ4ZD',\n",
    "    'Cookie': 'Hm_lvt_cdb524f42f0ce19b169a8071123a4797=1577029678,1577034191,1577034210,1577076651; Hm_lpvt_cdb524f42f0ce19b169a8071123a4797=1577080777; kw_token=RUJ53PGJ4ZD'\n",
    "}\n",
    "url = 'https://wiki.biligame.com/pcr/%E8%A7%92%E8%89%B2%E5%9B%BE%E9%89%B4' \n",
    "res = requests.get(url).text \n",
    "content = BeautifulSoup(res, \"html.parser\") \n",
    "data = content.find_all('tr',attrs={'class': 'divsort'})\n",
    "rex = re.compile('<a href=\"(.*?)\" title=\"(.*?)\">(.*?)</a>') \n",
    "# print(data)\n",
    "c_audio_list = [] \n",
    "for d in data: \n",
    "    plist = d.find_all('td')\n",
    "    alist = re.findall(rex, str(plist[1]))  \n",
    "    c_audio_list.append(alist[0][2]) \n",
    "print(c_audio_list)"
   ]
  },
  {
   "cell_type": "code",
   "execution_count": null,
   "metadata": {},
   "outputs": [],
   "source": [
    "import os \n",
    "os.chdir('../')\n",
    "os.getcwd()"
   ]
  },
  {
   "cell_type": "code",
   "execution_count": null,
   "metadata": {},
   "outputs": [],
   "source": [
    "# 爬取角色音频\n",
    "import os\n",
    "import time\n",
    "from bs4 import BeautifulSoup\n",
    "import requests\n",
    "from tqdm import *\n",
    "def download_audio(audio_l,c_name): \n",
    "    if os.path.exists(c_name): \n",
    "        print(c_name,\" 已存在\")\n",
    "        return\n",
    "    else:\n",
    "        os.mkdir(c_name) \n",
    "    \n",
    "    for i in tqdm(audio_l): \n",
    "        audio = requests.get(i) \n",
    "        audio_name = i.split('/')[7] \n",
    "        with open(c_name + '\\\\' + audio_name, 'wb') as f: \n",
    "            f.write(audio.content)\n",
    "\n",
    "def get_mp3_names(res):\n",
    "    content = BeautifulSoup(res, \"html.parser\") \n",
    "    data = content.find_all('div', attrs={'class': 'audio-wrapper'}) \n",
    "    audio_list = [] \n",
    "    for d in data: \n",
    "        plist = d.find('audio')['src'] \n",
    "        audio_list.append(plist) \n",
    "    print(\"audio_list:\")\n",
    "    print(audio_list)\n",
    "    return audio_list\n",
    "\n",
    "print(\"开始爬取...\")\n",
    "print(\"#####################################################\")\n",
    "headers = {\n",
    "    'User-Agent': 'Mozilla/5.0 (Windows NT 10.0; Win64; x64) AppleWebKit/537.36 (KHTML, like Gecko) Chrome/79.0.3945.88 Safari/537.36',\n",
    "    'Referer': 'https://wiki.biligame.com/pcr/%E5%AE%AB%E5%AD%90',\n",
    "    'csrf': 'RUJ53PGJ4ZD',\n",
    "    'Cookie': 'Hm_lvt_cdb524f42f0ce19b169a8071123a4797=1577029678,1577034191,1577034210,1577076651; Hm_lpvt_cdb524f42f0ce19b169a8071123a4797=1577080777; kw_token=RUJ53PGJ4ZD'\n",
    "}\n",
    "############################################################################################\n",
    "# 开始执行爬取\n",
    "os.chdir('./audio/')\n",
    "for c_name in c_audio_list:\n",
    "    url = 'https://wiki.biligame.com/pcr/' + c_name\n",
    "#############################################################################################\n",
    "    print(\"角色名：\",c_name)\n",
    "    try:\n",
    "        # os.getcwd()\n",
    "        res = requests.get(url).text \n",
    "        audio_list = get_mp3_names(res)\n",
    "        download_audio(audio_list, c_name)\n",
    "    except Exception as e:\n",
    "        print(\"爬取 \"+c_name + \" 出现错误：\",e)\n",
    "    time.sleep(1)\n",
    "\n",
    "print(\"#####################################################\")\n",
    "print(\"爬取结束...\")"
   ]
  },
  {
   "cell_type": "code",
   "execution_count": null,
   "metadata": {},
   "outputs": [],
   "source": [
    "os.getcwd()\n"
   ]
  },
  {
   "cell_type": "code",
   "execution_count": null,
   "metadata": {},
   "outputs": [],
   "source": [
    "# os.chdir('../')\n",
    "# os.getcwd()\n",
    "# 重命名\n",
    "for c_name in tqdm(c_audio_list):\n",
    "    path = './audio/'+ c_name\n",
    "    i = 1\n",
    "    for filename in os.listdir(path):\n",
    "        if filename.endswith('.mp3'):\n",
    "            os.rename(os.path.join(path, filename), os.path.join(path, str(i) + '.wav'))\n",
    "            i += 1"
   ]
  },
  {
   "cell_type": "code",
   "execution_count": null,
   "metadata": {},
   "outputs": [],
   "source": [
    "# 修复脚本\n",
    "\n",
    "import os\n",
    "import time\n",
    "from bs4 import BeautifulSoup\n",
    "import requests\n",
    "from tqdm import *\n",
    "os.getcwd()\n",
    "def download_audio(audio_l,c_name): \n",
    "    if os.path.exists(c_name): \n",
    "        print(c_name,\" 已存在\")\n",
    "        return\n",
    "    else:\n",
    "        os.mkdir(c_name) \n",
    "    \n",
    "    for i in tqdm(audio_l): \n",
    "        audio = requests.get(i) \n",
    "        audio_name = i.split('/')[7] \n",
    "        with open(c_name + '\\\\' + audio_name, 'wb') as f: \n",
    "            f.write(audio.content)\n",
    "\n",
    "def get_mp3_names(res):\n",
    "    content = BeautifulSoup(res, \"html.parser\") \n",
    "    data = content.find_all('div', attrs={'class': 'audio-wrapper'}) \n",
    "    audio_list = [] \n",
    "    for d in data: \n",
    "        plist = d.find('audio')['src'] \n",
    "        audio_list.append(plist) \n",
    "    print(\"audio_list:\")\n",
    "    print(audio_list)\n",
    "    return audio_list\n",
    "\n",
    "print(\"开始爬取...\")\n",
    "print(\"#####################################################\")\n",
    "headers = {\n",
    "    'User-Agent': 'Mozilla/5.0 (Windows NT 10.0; Win64; x64) AppleWebKit/537.36 (KHTML, like Gecko) Chrome/79.0.3945.88 Safari/537.36',\n",
    "    'Referer': 'https://wiki.biligame.com/pcr/%E5%AE%AB%E5%AD%90',\n",
    "    'csrf': 'RUJ53PGJ4ZD',\n",
    "    'Cookie': 'Hm_lvt_cdb524f42f0ce19b169a8071123a4797=1577029678,1577034191,1577034210,1577076651; Hm_lpvt_cdb524f42f0ce19b169a8071123a4797=1577080777; kw_token=RUJ53PGJ4ZD'\n",
    "}\n",
    "############################################################################################\n",
    "# 开始执行爬取\n",
    "os.chdir('./audio/')\n",
    "c_audio_list2 = ['克莉丝提娜（圣诞节）','杏奈（夏日）']\n",
    "for c_name in c_audio_list2:\n",
    "    url = 'https://wiki.biligame.com/pcr/' + c_name\n",
    "#############################################################################################\n",
    "    print(\"角色名：\",c_name)\n",
    "    try:\n",
    "        # os.getcwd()\n",
    "        res = requests.get(url).text \n",
    "        audio_list = get_mp3_names(res)\n",
    "        download_audio(audio_list, c_name)\n",
    "    except Exception as e:\n",
    "        print(\"爬取 \"+c_name + \" 出现错误：\",e)\n",
    "    time.sleep(1)\n",
    "\n",
    "print(\"#####################################################\")\n",
    "print(\"爬取结束...\")"
   ]
  },
  {
   "cell_type": "code",
   "execution_count": null,
   "metadata": {},
   "outputs": [],
   "source": [
    "os.getcwd()\n",
    "for c_name in tqdm(c_audio_list2):\n",
    "    path = './audio/'+ c_name\n",
    "    i = 1\n",
    "    for filename in os.listdir(path):\n",
    "        if filename.endswith('.mp3'):\n",
    "            os.rename(os.path.join(path, filename), os.path.join(path, str(i) + '.wav'))\n",
    "            i += 1"
   ]
  }
 ],
 "metadata": {
  "kernelspec": {
   "display_name": "NLP",
   "language": "python",
   "name": "python3"
  },
  "language_info": {
   "codemirror_mode": {
    "name": "ipython",
    "version": 3
   },
   "file_extension": ".py",
   "mimetype": "text/x-python",
   "name": "python",
   "nbconvert_exporter": "python",
   "pygments_lexer": "ipython3",
   "version": "3.7.5"
  },
  "orig_nbformat": 4
 },
 "nbformat": 4,
 "nbformat_minor": 2
}
